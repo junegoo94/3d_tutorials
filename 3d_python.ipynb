{
 "cells": [
  {
   "cell_type": "markdown",
   "metadata": {},
   "source": [
    "## What is Point cloud?\n",
    "1. point cloud specifities\n",
    "    - Unstructured discrete points\n",
    "    - Unven densities and qualities\n",
    "    - Needs fast point retrieval of large data\n",
    "    - Redundant data from multo-sources\n",
    "\n",
    "------------------------------------------------------------------------------\n",
    "2. 3D point cloud data processing steps\n",
    "    - Real world -> Low-level digital model -> High-level gidital model\n",
    "    - Step 1: Aquisition\n",
    "    - Step 2: Pre-processing\n",
    "    - Step 3: Feature Engineering\n",
    "    - Step 4: Registration\n",
    "    - Step 5: Segmentation\n",
    "    - Step 6: Structuration\n",
    "    - Step 7: Application + 3D modelling, 3D visualization\n",
    "\n"
   ]
  },
  {
   "cell_type": "code",
   "execution_count": null,
   "metadata": {},
   "outputs": [],
   "source": [
    "dsadas"
   ]
  }
 ],
 "metadata": {
  "language_info": {
   "name": "python"
  }
 },
 "nbformat": 4,
 "nbformat_minor": 2
}
